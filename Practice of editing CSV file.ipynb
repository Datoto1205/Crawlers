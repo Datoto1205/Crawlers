{
 "cells": [
  {
   "cell_type": "markdown",
   "metadata": {},
   "source": [
    "# Practice of Editing CSV File"
   ]
  },
  {
   "cell_type": "markdown",
   "metadata": {},
   "source": [
    "## Edit CSV with Module CSV (Not Recommended)"
   ]
  },
  {
   "cell_type": "code",
   "execution_count": 2,
   "metadata": {},
   "outputs": [
    {
     "name": "stdout",
     "output_type": "stream",
     "text": [
      "/Users/lizhengen/Documents/GitHub/Practice-of-My-First-Crawler\n",
      "['timestamp', 'machine_id', 'user_id', 'boxState']\n",
      "['timestamp', 'machine_id', 'user_id', 'boxState']\n"
     ]
    }
   ],
   "source": [
    "import csv\n",
    "import os\n",
    "import sys\n",
    "print (os.path.abspath('.'))\n",
    "\n",
    "# Read the CSV File\n",
    "pathProg = os.path.abspath('.')\n",
    "file = open(pathProg + '/Supporting Files/example_data.csv', 'r') # 'w' means write, 'r' means read.\n",
    "csvCursor = csv.reader(file)\n",
    "\n",
    "for row in csvCursor:\n",
    "    print(row)\n",
    "    \n",
    "file.close()\n",
    "\n",
    "# Add row to the CSV File\n",
    "\n",
    "file = open(pathProg + '/Supporting Files/example_data.csv', 'w') # 'w' means write, 'r' means read.\n",
    "csvCursor = csv.writer(file)\n",
    "\n",
    "csvHeader = ['timestamp', 'machine_id', 'user_id', 'boxState']\n",
    "csvCursor.writerow(csvHeader)\n",
    "\n",
    "file.close()\n",
    "\n",
    "# Read the CSV File\n",
    "pathProg = os.path.abspath('.')\n",
    "file = open(pathProg + '/Supporting Files/example_data.csv', 'r') # 'w' means write, 'r' means read.\n",
    "csvCursor = csv.reader(file)\n",
    "\n",
    "for row in csvCursor:\n",
    "    print(row)\n",
    "    \n",
    "file.close()\n",
    "\n",
    "# This procedure is too complicated...\n",
    "# The website I refered to: https://www.jianshu.com/p/b8110d578155"
   ]
  },
  {
   "cell_type": "markdown",
   "metadata": {},
   "source": [
    "## Edit CSV with Module Panda\n",
    "\n",
    "* The tutorials website I refered to: https://medium.com/datainpoint/從-pandas-開始-python-與資料科學之旅-8dee36796d4a\n",
    "\n",
    "* The tutorials website I refered to: http://violin-tao.blogspot.com/2017/06/pandas-2-concat-merge.html\n",
    "\n",
    "\n",
    "#### Import The Data"
   ]
  },
  {
   "cell_type": "code",
   "execution_count": 3,
   "metadata": {},
   "outputs": [
    {
     "name": "stdout",
     "output_type": "stream",
     "text": [
      "<class 'pandas.core.frame.DataFrame'>\n"
     ]
    },
    {
     "data": {
      "text/html": [
       "<div>\n",
       "<style scoped>\n",
       "    .dataframe tbody tr th:only-of-type {\n",
       "        vertical-align: middle;\n",
       "    }\n",
       "\n",
       "    .dataframe tbody tr th {\n",
       "        vertical-align: top;\n",
       "    }\n",
       "\n",
       "    .dataframe thead th {\n",
       "        text-align: right;\n",
       "    }\n",
       "</style>\n",
       "<table border=\"1\" class=\"dataframe\">\n",
       "  <thead>\n",
       "    <tr style=\"text-align: right;\">\n",
       "      <th></th>\n",
       "      <th>timestamp</th>\n",
       "      <th>machine_id</th>\n",
       "      <th>user_id</th>\n",
       "      <th>boxState</th>\n",
       "    </tr>\n",
       "  </thead>\n",
       "  <tbody>\n",
       "  </tbody>\n",
       "</table>\n",
       "</div>"
      ],
      "text/plain": [
       "Empty DataFrame\n",
       "Columns: [timestamp, machine_id, user_id, boxState]\n",
       "Index: []"
      ]
     },
     "execution_count": 3,
     "metadata": {},
     "output_type": "execute_result"
    }
   ],
   "source": [
    "import pandas as pd # Import the package and shorten its name as \"pd\"\n",
    "import os\n",
    "\n",
    "# Load the CSV file\n",
    "pathProg = os.path.abspath('.')\n",
    "newDF = pd.read_csv(pathProg + '/Supporting Files/example_data.csv')  \n",
    "print(type(newDF))    # Get the type of the file we load in.\n",
    "newDF.head()    # Illustrate the file we load in more sophistically."
   ]
  },
  {
   "cell_type": "code",
   "execution_count": 4,
   "metadata": {},
   "outputs": [
    {
     "name": "stdout",
     "output_type": "stream",
     "text": [
      "<class 'pandas.core.frame.DataFrame'>\n"
     ]
    },
    {
     "data": {
      "text/html": [
       "<div>\n",
       "<style scoped>\n",
       "    .dataframe tbody tr th:only-of-type {\n",
       "        vertical-align: middle;\n",
       "    }\n",
       "\n",
       "    .dataframe tbody tr th {\n",
       "        vertical-align: top;\n",
       "    }\n",
       "\n",
       "    .dataframe thead th {\n",
       "        text-align: right;\n",
       "    }\n",
       "</style>\n",
       "<table border=\"1\" class=\"dataframe\">\n",
       "  <thead>\n",
       "    <tr style=\"text-align: right;\">\n",
       "      <th></th>\n",
       "      <th>Name</th>\n",
       "      <th>Nationality</th>\n",
       "      <th>Number of his &amp; her children</th>\n",
       "    </tr>\n",
       "  </thead>\n",
       "  <tbody>\n",
       "    <tr>\n",
       "      <th>0</th>\n",
       "      <td>Gates</td>\n",
       "      <td>United States</td>\n",
       "      <td>2</td>\n",
       "    </tr>\n",
       "    <tr>\n",
       "      <th>1</th>\n",
       "      <td>Bills</td>\n",
       "      <td>China</td>\n",
       "      <td>0</td>\n",
       "    </tr>\n",
       "    <tr>\n",
       "      <th>2</th>\n",
       "      <td>Amanda</td>\n",
       "      <td>China</td>\n",
       "      <td>1</td>\n",
       "    </tr>\n",
       "    <tr>\n",
       "      <th>3</th>\n",
       "      <td>Cindy</td>\n",
       "      <td>Chille</td>\n",
       "      <td>2</td>\n",
       "    </tr>\n",
       "    <tr>\n",
       "      <th>4</th>\n",
       "      <td>Tiger</td>\n",
       "      <td>Japan</td>\n",
       "      <td>2</td>\n",
       "    </tr>\n",
       "    <tr>\n",
       "      <th>5</th>\n",
       "      <td>Jack</td>\n",
       "      <td>United States</td>\n",
       "      <td>3</td>\n",
       "    </tr>\n",
       "  </tbody>\n",
       "</table>\n",
       "</div>"
      ],
      "text/plain": [
       "     Name    Nationality  Number of his & her children\n",
       "0   Gates  United States                             2\n",
       "1  Bills           China                             0\n",
       "2  Amanda          China                             1\n",
       "3   Cindy         Chille                             2\n",
       "4   Tiger          Japan                             2\n",
       "5    Jack  United States                             3"
      ]
     },
     "execution_count": 4,
     "metadata": {},
     "output_type": "execute_result"
    }
   ],
   "source": [
    "# Load the EXCEL file\n",
    "newDFOfExcel = pd.read_excel(pathProg + '/Supporting Files/Example_Excel_Data.xlsx')  \n",
    "print(type(newDFOfExcel))    # Get the type of the file we load in.\n",
    "newDFOfExcel.head(6)    # Illustrate the file we load in more sophistically."
   ]
  },
  {
   "cell_type": "markdown",
   "metadata": {},
   "source": [
    "#### Process The Data Frame"
   ]
  },
  {
   "cell_type": "code",
   "execution_count": 5,
   "metadata": {},
   "outputs": [
    {
     "name": "stdout",
     "output_type": "stream",
     "text": [
      "The number of rows and columns in this data frame is: (10, 3)\n",
      "\n",
      "Index(['Name', 'Nationality', 'Number of his & her children'], dtype='object')\n",
      "\n",
      "\n",
      "\n",
      "\n",
      "     Name    Nationality  Number of his & her children\n",
      "0   Gates  United States                             2\n",
      "1  Bills           China                             0\n",
      "2  Amanda          China                             1\n",
      "\n",
      "\n",
      "\n",
      "RangeIndex(start=0, stop=10, step=1)\n",
      "\n",
      "\n",
      "\n",
      "\n",
      "<class 'pandas.core.frame.DataFrame'>\n",
      "RangeIndex: 10 entries, 0 to 9\n",
      "Data columns (total 3 columns):\n",
      "Name                            10 non-null object\n",
      "Nationality                     10 non-null object\n",
      "Number of his & her children    10 non-null int64\n",
      "dtypes: int64(1), object(2)\n",
      "memory usage: 320.0+ bytes\n",
      "None\n",
      "\n",
      "\n",
      "\n",
      "       Number of his & her children\n",
      "count                     10.000000\n",
      "mean                       1.700000\n",
      "std                        1.251666\n",
      "min                        0.000000\n",
      "25%                        1.000000\n",
      "50%                        2.000000\n",
      "75%                        2.000000\n",
      "max                        4.000000\n"
     ]
    }
   ],
   "source": [
    "# Get some fundamental information about the data frame\n",
    "print(\"The number of rows and columns in this data frame is: \" + str(newDFOfExcel.shape) + \"\\n\")\n",
    "\n",
    "# Get the header row\n",
    "print(str(newDFOfExcel.columns) + \"\\n\")\n",
    "\n",
    "# Sift out some rows\n",
    "print(\"\\n\\n\")\n",
    "print(newDFOfExcel[0:3])\n",
    "\n",
    "# Check the data in particular address\n",
    "print(\"\\n\\n\")\n",
    "newDFOfExcel['Nationality'][2]\n",
    "\n",
    "# Get the description of the rows\n",
    "print(str(newDFOfExcel.index) + \"\\n\")\n",
    "\n",
    "# Get the description of this data frame\n",
    "print(\"\\n\\n\")\n",
    "print(newDFOfExcel.info())\n",
    "print(\"\\n\\n\")\n",
    "\n",
    "# Get the description statistics of the columns in which the type of data are int, just like summary() in R I think.\n",
    "print(newDFOfExcel.describe())"
   ]
  },
  {
   "cell_type": "code",
   "execution_count": 10,
   "metadata": {},
   "outputs": [
    {
     "name": "stdout",
     "output_type": "stream",
     "text": [
      "    Name    Nationality  Number of his & her children\n",
      "0  Gates  United States                             2\n",
      "5   Jack  United States                             3\n",
      "7    Tea  United States                             2\n",
      "\n",
      "\n",
      "\n",
      "    Name    Nationality  Number of his & her children\n",
      "0  Gates  United States                             2\n",
      "3  Cindy         Chille                             2\n",
      "4  Tiger          Japan                             2\n",
      "5   Jack  United States                             3\n",
      "7    Tea  United States                             2\n",
      "8  Tonny          Japan                             1\n",
      "9  Jerry         Chille                             4\n",
      "\n",
      "\n",
      "\n",
      "     Name  Number of his & her children\n",
      "0   Gates                             2\n",
      "1  Bills                              0\n",
      "2  Amanda                             1\n",
      "3   Cindy                             2\n",
      "4   Tiger                             2\n",
      "5    Jack                             3\n",
      "6   Ricky                             0\n",
      "7     Tea                             2\n",
      "8   Tonny                             1\n",
      "9   Jerry                             4\n",
      "\n",
      "\n",
      "\n",
      "0     Gates\n",
      "1    Bills \n",
      "2    Amanda\n",
      "3     Cindy\n",
      "4     Tiger\n",
      "5      Jack\n",
      "6     Ricky\n",
      "7       Tea\n",
      "8     Tonny\n",
      "9     Jerry\n",
      "Name: Name, dtype: object\n"
     ]
    }
   ],
   "source": [
    "# Sift out some rows which was satisfied by some conditions\n",
    "print(newDFOfExcel[newDFOfExcel['Nationality'] == 'United States'])\n",
    "print(\"\\n\\n\")\n",
    "print(newDFOfExcel[(newDFOfExcel['Number of his & her children'] != 0) & (newDFOfExcel['Nationality'] != 'China')])\n",
    "# \"&\" means \"and\", and \"|\" means \"or\".\n",
    "\n",
    "# Only select several particular columns\n",
    "print(\"\\n\\n\")\n",
    "print(newDFOfExcel[['Name', 'Number of his & her children']])\n",
    "print(\"\\n\\n\")\n",
    "print(newDFOfExcel[newDFOfExcel.columns[0]][0:10])"
   ]
  },
  {
   "cell_type": "code",
   "execution_count": null,
   "metadata": {},
   "outputs": [],
   "source": [
    "# Create new column\n",
    "newDFOfExcel['Test Column'] = 3 * (newDFOfExcel['Number of his & her children'])\n",
    "print(newDFOfExcel)\n",
    "\n",
    "# Aggregate the data in Column & Get the mean & Seperate data into several groups\n",
    "print(\"\\n\\nThe total number of children of everyone is: \" + str(newDFOfExcel['Number of his & her children'].sum()) + \"\\n\")\n",
    "print(newDFOfExcel[newDFOfExcel['Nationality'] == 'China']['Number of his & her children'].mean())\n",
    "print(\"\\n\\n\")\n",
    "print(newDFOfExcel.groupby(by = 'Nationality')['Number of his & her children'].sum())"
   ]
  },
  {
   "cell_type": "code",
   "execution_count": null,
   "metadata": {
    "scrolled": true
   },
   "outputs": [],
   "source": [
    "newDF1 = pd.read_excel(pathProg + '/Supporting Files/Experimental_matrix_1.xlsx')\n",
    "newDF2 = pd.read_excel(pathProg + '/Supporting Files/Experimental_matrix_2.xlsx')\n",
    "newDF3 = pd.read_excel(pathProg + '/Supporting Files/Experimental_matrix_3.xlsx')\n",
    "\n",
    "'''\n",
    "print(newDF1)    This code is used to check the dataframe.\n",
    "print(\"\\n\")\n",
    "print(newDF2)    This code is used to check the dataframe.\n",
    "print(\"\\n\")\n",
    "'''\n",
    "\n",
    "# Merge dataframe through \".append\"\n",
    "print(newDF2.append(newDF1, ignore_index = True))    # We recreate the index with the command of \"ignore_index\".\n",
    "print(\"\\n\")\n",
    "\n",
    "# Merge dataframe vertically through panda.concat\n",
    "print(pd.concat([newDF2, newDF1], axis = 0, ignore_index = True))\n",
    "print(\"\\n\")\n",
    "\n",
    "# Merge dataframe horizontally through panda.concat\n",
    "print(pd.concat([newDF2, newDF3], axis = 1, ignore_index = True))\n",
    "print(\"\\n\")\n",
    "\n",
    "# Extract a particular row\n",
    "largeDF = pd.concat([newDF2, newDF3], axis = 1, ignore_index = True)\n",
    "print(largeDF[0:1])\n",
    "print(\"\\n\")\n",
    "\n",
    "# Change the name of column\n",
    "largeDF.columns = ['Name', 'Age', 'Nationality', 'Hobby']\n",
    "largeDF"
   ]
  },
  {
   "cell_type": "markdown",
   "metadata": {},
   "source": [
    "#### Process The Series"
   ]
  },
  {
   "cell_type": "code",
   "execution_count": null,
   "metadata": {},
   "outputs": [],
   "source": [
    "# Extract series from data frame\n",
    "newSeriesOfExcel = newDFOfExcel['Test Column']\n",
    "print(type(newSeriesOfExcel))\n",
    "print(newSeriesOfExcel)\n",
    "\n",
    "# Extract nadarray from series\n",
    "print(\"\\n\\n\")\n",
    "print(type(newSeriesOfExcel.values))\n",
    "print(newSeriesOfExcel.values)"
   ]
  },
  {
   "cell_type": "markdown",
   "metadata": {},
   "source": [
    "#### Process The Panel"
   ]
  },
  {
   "cell_type": "code",
   "execution_count": null,
   "metadata": {},
   "outputs": [],
   "source": [
    "dicOfPanel = {}\n",
    "\n",
    "DFOne = newDFOfExcel[0:3].reset_index(drop = True)    # Without \".reset_index(drop = True)\", system would integrate all the data frames into one form after it finish the process of generating the panel.\n",
    "dicOfPanel[1] = DFOne\n",
    "\n",
    "DFTwo = newDFOfExcel[3:6].reset_index(drop = True)\n",
    "dicOfPanel[2] = DFTwo\n",
    "\n",
    "DFThree = newDFOfExcel[6:9].reset_index(drop = True)\n",
    "dicOfPanel[3] = DFThree\n",
    "\n",
    "newPanel = pd.Panel(dicOfPanel)\n",
    "newPanel[2]"
   ]
  },
  {
   "cell_type": "code",
   "execution_count": null,
   "metadata": {},
   "outputs": [],
   "source": [
    "# Rotate and transform the data frame\n",
    "print(newDFOfExcel)\n",
    "print(\"\\n\\n\")\n",
    "Transpose = newDFOfExcel.melt()\n",
    "print(Transpose)"
   ]
  },
  {
   "cell_type": "markdown",
   "metadata": {},
   "source": [
    "#### Export The Data"
   ]
  },
  {
   "cell_type": "code",
   "execution_count": null,
   "metadata": {},
   "outputs": [],
   "source": [
    "Transpose.to_csv('output_cvs_file.csv', index = False)\n",
    "Transpose.to_excel('output_cvs_file.xlsx', index = False)"
   ]
  },
  {
   "cell_type": "markdown",
   "metadata": {},
   "source": [
    "## Edit array with numpy module"
   ]
  },
  {
   "cell_type": "code",
   "execution_count": null,
   "metadata": {},
   "outputs": [],
   "source": [
    "import numpy as np\n",
    "\n",
    "# Traditional array could not use conveniently.\n",
    "oldArray = [1, 2, 3]\n",
    "anotherOldArray = [4, 5, 6]\n",
    "print(oldArray + anotherOldArray)    # Just like the function of append.\n",
    "\n",
    "# Numpy array could be used and calculated more conveniently.\n",
    "newArray = np.array([1, 2, 3])\n",
    "anotherNewArray = np.array([4, 5, 6])\n",
    "print(newArray + anotherNewArray)    # Could calculate for each element.\n",
    "print(\"\\n\\n\")\n",
    "\n",
    "print(\"The dimension of newArray is: \" + str(newArray.ndim))    # \".ndim\" could be used to get the dimension of a numpy array.\n",
    "print(newArray.shape)    # \".shape\" could be used to get the number of elements in the numpy array.\n",
    "print(newArray.dtype)    # \".dtype\" could be used to get the type of elements in the numpy array.\n",
    "\n",
    "# Create matrix with elements of 0 or 1\n",
    "zeroMatrix = np.zeros([3, 5])\n",
    "oneMatrix = np.ones([2, 4])\n",
    "\n",
    "print(zeroMatrix)\n",
    "print(oneMatrix)"
   ]
  },
  {
   "cell_type": "code",
   "execution_count": null,
   "metadata": {},
   "outputs": [],
   "source": [
    "# create a matrix manually\n",
    "newMatrix = np.empty([4, 4])\n",
    "newMatrix[0] = [88, 12, 13, 14]\n",
    "newMatrix[1] = [21, 88, 23, 24]\n",
    "newMatrix[2] = [31, 32, 88, 34]\n",
    "newMatrix[3] = [41, 42, 43, 88]\n",
    "\n",
    "# Extract particular row & Column & element & elements specific rule.\n",
    "print(newMatrix)\n",
    "firstRow = newMatrix[0,:]\n",
    "print(\"The first row in the newMatrix is: \" + str(firstRow))\n",
    "\n",
    "thirdColumn = newMatrix[:,2]\n",
    "print(\"The third column in the newMatrix is: \" + str(thirdColumn))\n",
    "\n",
    "print(newMatrix[0, 2])\n",
    "print(newMatrix[newMatrix > 20])\n",
    "\n",
    "# Sum the elements in one row & column\n",
    "print(newMatrix[:, 0].sum())    # Sum vertically\n",
    "print(newMatrix.sum(axis = 1))    # Sum horizontally "
   ]
  },
  {
   "cell_type": "markdown",
   "metadata": {},
   "source": [
    "* Module \"pandas\" could be used to deal with some works about dataframe, while module \"numpy\" could be used to deal with some works about array.\n",
    "* The tutorial website about module \"numpy\" I refered to: https://blog.techbridge.cc/2017/07/28/data-science-101-numpy-tutorial/"
   ]
  }
 ],
 "metadata": {
  "kernelspec": {
   "display_name": "Python 3",
   "language": "python",
   "name": "python3"
  },
  "language_info": {
   "codemirror_mode": {
    "name": "ipython",
    "version": 3
   },
   "file_extension": ".py",
   "mimetype": "text/x-python",
   "name": "python",
   "nbconvert_exporter": "python",
   "pygments_lexer": "ipython3",
   "version": "3.7.0"
  }
 },
 "nbformat": 4,
 "nbformat_minor": 2
}
