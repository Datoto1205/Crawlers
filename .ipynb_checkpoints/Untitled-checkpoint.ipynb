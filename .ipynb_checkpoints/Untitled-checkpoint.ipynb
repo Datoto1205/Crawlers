{
 "cells": [
  {
   "cell_type": "markdown",
   "metadata": {},
   "source": [
    "# Edit CSV with Module CSV (Not Recommended)"
   ]
  },
  {
   "cell_type": "code",
   "execution_count": 69,
   "metadata": {},
   "outputs": [
    {
     "name": "stdout",
     "output_type": "stream",
     "text": [
      "/Users/lizhengen/Documents/GitHub/Practice-of-My-First-Crawler\n",
      "['timestamp', 'machine_id', 'user_id', 'boxState']\n",
      "['timestamp', 'machine_id', 'user_id', 'boxState']\n"
     ]
    }
   ],
   "source": [
    "import csv\n",
    "import os\n",
    "import sys\n",
    "print (os.path.abspath('.'))\n",
    "\n",
    "# Read the CSV File\n",
    "pathProg = os.path.abspath('.')\n",
    "file = open(pathProg + '/example_data.csv', 'r') # 'w' means write, 'r' means read.\n",
    "csvCursor = csv.reader(file)\n",
    "\n",
    "for row in csvCursor:\n",
    "    print(row)\n",
    "    \n",
    "file.close()\n",
    "\n",
    "# Add row to the CSV File\n",
    "\n",
    "file = open(pathProg + '/example_data.csv', 'w') # 'w' means write, 'r' means read.\n",
    "csvCursor = csv.writer(file)\n",
    "\n",
    "csvHeader = ['timestamp', 'machine_id', 'user_id', 'boxState']\n",
    "csvCursor.writerow(csvHeader)\n",
    "\n",
    "file.close()\n",
    "\n",
    "# Read the CSV File\n",
    "pathProg = os.path.abspath('.')\n",
    "file = open(pathProg + '/example_data.csv', 'r') # 'w' means write, 'r' means read.\n",
    "csvCursor = csv.reader(file)\n",
    "\n",
    "for row in csvCursor:\n",
    "    print(row)\n",
    "    \n",
    "file.close()\n",
    "\n",
    "# This procedure is too complicated...\n",
    "# The website I refered to: https://www.jianshu.com/p/b8110d578155"
   ]
  },
  {
   "cell_type": "code",
   "execution_count": 70,
   "metadata": {},
   "outputs": [
    {
     "name": "stdout",
     "output_type": "stream",
     "text": [
      "Empty DataFrame\n",
      "Columns: [timestamp, machine_id, user_id, boxState]\n",
      "Index: []\n"
     ]
    }
   ],
   "source": [
    "# 讀取 CSV File\n",
    "import pandas as pd # 引用套件並縮寫為 pd  \n",
    "import os\n",
    "\n",
    "pathProg = os.path.abspath('.')\n",
    "df = pd.read_csv('example_data.csv')  \n",
    "print(df)  "
   ]
  }
 ],
 "metadata": {
  "kernelspec": {
   "display_name": "Python 3",
   "language": "python",
   "name": "python3"
  },
  "language_info": {
   "codemirror_mode": {
    "name": "ipython",
    "version": 3
   },
   "file_extension": ".py",
   "mimetype": "text/x-python",
   "name": "python",
   "nbconvert_exporter": "python",
   "pygments_lexer": "ipython3",
   "version": "3.7.0"
  }
 },
 "nbformat": 4,
 "nbformat_minor": 2
}
