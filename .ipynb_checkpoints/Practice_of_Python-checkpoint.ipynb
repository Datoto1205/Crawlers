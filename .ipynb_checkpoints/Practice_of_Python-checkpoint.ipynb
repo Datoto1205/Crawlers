{
 "cells": [
  {
   "cell_type": "markdown",
   "metadata": {},
   "source": [
    "# Declaration"
   ]
  },
  {
   "cell_type": "code",
   "execution_count": 1,
   "metadata": {},
   "outputs": [
    {
     "name": "stdout",
     "output_type": "stream",
     "text": [
      "hello, python!\t\n",
      "\n",
      "\n",
      "hello, python!\t\thello, python!\t\t\n",
      "\n",
      "The length of the firstString is:  5 \n",
      "\n",
      "The letter \"o\" in the firstString repeated for  2  times.\n"
     ]
    }
   ],
   "source": [
    "# Hello World\n",
    "firstString = \"hello\"\n",
    "secondString = \", python!\\t\"\n",
    "print(firstString + secondString)\n",
    "\n",
    "# Combine Strings\n",
    "print(\"\\n\")\n",
    "assembledString = firstString + secondString + \"\\t\"\n",
    "print(2*(assembledString))\n",
    "\n",
    "# Length of String\n",
    "numberOfString = len(firstString)\n",
    "print(\"\\nThe length of the firstString is: \", numberOfString, \"\\n\")\n",
    "\n",
    "numberOfRepeatedString = assembledString.count(\"o\")\n",
    "print(\"The letter \\\"o\\\" in the firstString repeated for \", numberOfRepeatedString, \" times.\")"
   ]
  },
  {
   "cell_type": "code",
   "execution_count": 2,
   "metadata": {},
   "outputs": [
    {
     "name": "stdout",
     "output_type": "stream",
     "text": [
      "5\n",
      "5 muitiply 2 equal to 10\n",
      "\n",
      "0 means False in python\n",
      "The number over than 0 means True in python\n"
     ]
    }
   ],
   "source": [
    "# Integer\n",
    "firstInteger = 5\n",
    "secondInteger = 2\n",
    "print(firstInteger)\n",
    "MultipliedResult = firstInteger*secondInteger\n",
    "\n",
    "print(str(firstInteger) + \" muitiply \" + str(secondInteger) + \" equal to \" + str(MultipliedResult))\n",
    "# I need to transfer integer into string through the function str() if I want to print integer with string together.\n",
    "\n",
    "# Bool\n",
    "firstBool = bool(0)\n",
    "secondBool = bool(2)\n",
    "print(\"\\n0 means \" + str(firstBool) + \" in python\")\n",
    "print(\"The number over than 0 means \" + str(secondBool) + \" in python\")"
   ]
  },
  {
   "cell_type": "code",
   "execution_count": 3,
   "metadata": {},
   "outputs": [
    {
     "name": "stdout",
     "output_type": "stream",
     "text": [
      "The second element in the firstArray is: 2\n",
      "The number of elements in the firstArray is: 5\n"
     ]
    }
   ],
   "source": [
    "# Array\n",
    "firstArray = [1, 2, 3, 4, 5]\n",
    "print(\"The second element in the firstArray is: \" + str(firstArray[1]))\n",
    "print(\"The number of elements in the firstArray is: \" + str(len(firstArray)))"
   ]
  },
  {
   "cell_type": "code",
   "execution_count": 4,
   "metadata": {},
   "outputs": [
    {
     "name": "stdout",
     "output_type": "stream",
     "text": [
      "1 * 1 = 1\n",
      "1 * 2 = 2\n",
      "2 * 1 = 2\n",
      "2 * 2 = 4\n"
     ]
    }
   ],
   "source": [
    "# Loop\n",
    "for i in range(1, 3) :\n",
    "    for j in range(1, 3) :\n",
    "        print(str(i) + \" * \" + str(j) + \" = \" + str(i*j))"
   ]
  },
  {
   "cell_type": "code",
   "execution_count": 5,
   "metadata": {},
   "outputs": [
    {
     "name": "stdout",
     "output_type": "stream",
     "text": [
      "I am not single\n",
      "\n",
      "1\n",
      "2\n",
      "3\n",
      "4\n",
      "5\n"
     ]
    }
   ],
   "source": [
    "# If & Function with Input and Output\n",
    "def firstFunction(numberOfMyGirlfriend):\n",
    "    if numberOfMyGirlfriend == 0:\n",
    "        return \"I am single\"\n",
    "    else: \n",
    "        return \"I am not single\"\n",
    "\n",
    "print(firstFunction(5) + \"\\n\")\n",
    "\n",
    "# Function with Input of Array\n",
    "def seeTheArray(inputArray):\n",
    "    for i in range(0, len(inputArray)):\n",
    "        print(inputArray[i])\n",
    "        \n",
    "seeTheArray(firstArray)\n",
    "\n"
   ]
  },
  {
   "cell_type": "code",
   "execution_count": null,
   "metadata": {},
   "outputs": [],
   "source": []
  }
 ],
 "metadata": {
  "kernelspec": {
   "display_name": "Python 3",
   "language": "python",
   "name": "python3"
  },
  "language_info": {
   "codemirror_mode": {
    "name": "ipython",
    "version": 3
   },
   "file_extension": ".py",
   "mimetype": "text/x-python",
   "name": "python",
   "nbconvert_exporter": "python",
   "pygments_lexer": "ipython3",
   "version": "3.7.0"
  }
 },
 "nbformat": 4,
 "nbformat_minor": 2
}
