{
 "cells": [
  {
   "cell_type": "markdown",
   "metadata": {},
   "source": [
    "# Edit CSV with Module CSV (Not Recommended)"
   ]
  },
  {
   "cell_type": "code",
   "execution_count": 2,
   "metadata": {
    "collapsed": true
   },
   "outputs": [
    {
     "name": "stdout",
     "output_type": "stream",
     "text": [
      "/Users/lizhengen/Documents/GitHub/Practice-of-My-First-Crawler\n",
      "['Name', 'Age', 'Sex']\n",
      "['Apple', '20', 'M']\n",
      "['Bird', '23', 'F']\n",
      "['Cat', '25', 'F']\n",
      "['timestamp', 'machine_id', 'user_id', 'boxState']\n"
     ]
    }
   ],
   "source": [
    "import csv\n",
    "import os\n",
    "import sys\n",
    "print (os.path.abspath('.'))\n",
    "\n",
    "# Read the CSV File\n",
    "pathProg = os.path.abspath('.')\n",
    "file = open(pathProg + '/example_data.csv', 'r') # 'w' means write, 'r' means read.\n",
    "csvCursor = csv.reader(file)\n",
    "\n",
    "for row in csvCursor:\n",
    "    print(row)\n",
    "    \n",
    "file.close()\n",
    "\n",
    "# Add row to the CSV File\n",
    "\n",
    "file = open(pathProg + '/example_data.csv', 'w') # 'w' means write, 'r' means read.\n",
    "csvCursor = csv.writer(file)\n",
    "\n",
    "csvHeader = ['timestamp', 'machine_id', 'user_id', 'boxState']\n",
    "csvCursor.writerow(csvHeader)\n",
    "\n",
    "file.close()\n",
    "\n",
    "# Read the CSV File\n",
    "pathProg = os.path.abspath('.')\n",
    "file = open(pathProg + '/example_data.csv', 'r') # 'w' means write, 'r' means read.\n",
    "csvCursor = csv.reader(file)\n",
    "\n",
    "for row in csvCursor:\n",
    "    print(row)\n",
    "    \n",
    "file.close()\n",
    "\n",
    "# This procedure is too complicated...\n",
    "# The website I refered to: https://www.jianshu.com/p/b8110d578155"
   ]
  },
  {
   "cell_type": "markdown",
   "metadata": {},
   "source": [
    "# Edit CSV with Module Panda\n",
    "\n",
    "* The tutorials website I refered to: https://medium.com/datainpoint/從-pandas-開始-python-與資料科學之旅-8dee36796d4a\n",
    "\n",
    "### Import The Data"
   ]
  },
  {
   "cell_type": "code",
   "execution_count": 3,
   "metadata": {
    "collapsed": true
   },
   "outputs": [
    {
     "name": "stdout",
     "output_type": "stream",
     "text": [
      "<class 'pandas.core.frame.DataFrame'>\n"
     ]
    },
    {
     "data": {
      "text/html": [
       "<div>\n",
       "<style scoped>\n",
       "    .dataframe tbody tr th:only-of-type {\n",
       "        vertical-align: middle;\n",
       "    }\n",
       "\n",
       "    .dataframe tbody tr th {\n",
       "        vertical-align: top;\n",
       "    }\n",
       "\n",
       "    .dataframe thead th {\n",
       "        text-align: right;\n",
       "    }\n",
       "</style>\n",
       "<table border=\"1\" class=\"dataframe\">\n",
       "  <thead>\n",
       "    <tr style=\"text-align: right;\">\n",
       "      <th></th>\n",
       "      <th>timestamp</th>\n",
       "      <th>machine_id</th>\n",
       "      <th>user_id</th>\n",
       "      <th>boxState</th>\n",
       "    </tr>\n",
       "  </thead>\n",
       "  <tbody>\n",
       "  </tbody>\n",
       "</table>\n",
       "</div>"
      ],
      "text/plain": [
       "Empty DataFrame\n",
       "Columns: [timestamp, machine_id, user_id, boxState]\n",
       "Index: []"
      ]
     },
     "execution_count": 3,
     "metadata": {},
     "output_type": "execute_result"
    }
   ],
   "source": [
    "import pandas as pd # Import the package and shorten its name as \"pd\"\n",
    "import os\n",
    "\n",
    "# Load the CSV file\n",
    "newDF = pd.read_csv('example_data.csv')  \n",
    "print(type(newDF))    # Get the type of the file we load in.\n",
    "newDF.head()    # Illustrate the file we load in more sophistically."
   ]
  },
  {
   "cell_type": "code",
   "execution_count": 4,
   "metadata": {
    "collapsed": true
   },
   "outputs": [
    {
     "name": "stdout",
     "output_type": "stream",
     "text": [
      "<class 'pandas.core.frame.DataFrame'>\n"
     ]
    },
    {
     "data": {
      "text/html": [
       "<div>\n",
       "<style scoped>\n",
       "    .dataframe tbody tr th:only-of-type {\n",
       "        vertical-align: middle;\n",
       "    }\n",
       "\n",
       "    .dataframe tbody tr th {\n",
       "        vertical-align: top;\n",
       "    }\n",
       "\n",
       "    .dataframe thead th {\n",
       "        text-align: right;\n",
       "    }\n",
       "</style>\n",
       "<table border=\"1\" class=\"dataframe\">\n",
       "  <thead>\n",
       "    <tr style=\"text-align: right;\">\n",
       "      <th></th>\n",
       "      <th>Name</th>\n",
       "      <th>Nationality</th>\n",
       "      <th>Number of his &amp; her children</th>\n",
       "    </tr>\n",
       "  </thead>\n",
       "  <tbody>\n",
       "    <tr>\n",
       "      <th>0</th>\n",
       "      <td>Gates</td>\n",
       "      <td>United States</td>\n",
       "      <td>2</td>\n",
       "    </tr>\n",
       "    <tr>\n",
       "      <th>1</th>\n",
       "      <td>Bills</td>\n",
       "      <td>China</td>\n",
       "      <td>0</td>\n",
       "    </tr>\n",
       "    <tr>\n",
       "      <th>2</th>\n",
       "      <td>Amanda</td>\n",
       "      <td>China</td>\n",
       "      <td>1</td>\n",
       "    </tr>\n",
       "    <tr>\n",
       "      <th>3</th>\n",
       "      <td>Cindy</td>\n",
       "      <td>Chille</td>\n",
       "      <td>2</td>\n",
       "    </tr>\n",
       "    <tr>\n",
       "      <th>4</th>\n",
       "      <td>Tiger</td>\n",
       "      <td>Japan</td>\n",
       "      <td>2</td>\n",
       "    </tr>\n",
       "  </tbody>\n",
       "</table>\n",
       "</div>"
      ],
      "text/plain": [
       "     Name    Nationality  Number of his & her children\n",
       "0   Gates  United States                             2\n",
       "1  Bills           China                             0\n",
       "2  Amanda          China                             1\n",
       "3   Cindy         Chille                             2\n",
       "4   Tiger          Japan                             2"
      ]
     },
     "execution_count": 4,
     "metadata": {},
     "output_type": "execute_result"
    }
   ],
   "source": [
    "# Load the EXCEL file\n",
    "newDFOfExcel = pd.read_excel('Example_Excel_Data.xlsx')  \n",
    "print(type(newDFOfExcel))    # Get the type of the file we load in.\n",
    "newDFOfExcel.head()    # Illustrate the file we load in more sophistically."
   ]
  },
  {
   "cell_type": "markdown",
   "metadata": {},
   "source": [
    "### Process The Data Frame"
   ]
  },
  {
   "cell_type": "code",
   "execution_count": 34,
   "metadata": {
    "collapsed": true
   },
   "outputs": [
    {
     "name": "stdout",
     "output_type": "stream",
     "text": [
      "The number of rows and columns in this data frame is: (10, 4)\n",
      "\n",
      "Index(['Name', 'Nationality', 'Number of his & her children', 'Test Column'], dtype='object')\n",
      "\n",
      "\n",
      "\n",
      "\n",
      "     Name    Nationality  Number of his & her children  Test Column\n",
      "0   Gates  United States                             2            6\n",
      "1  Bills           China                             0            0\n",
      "2  Amanda          China                             1            3\n",
      "\n",
      "\n",
      "\n",
      "RangeIndex(start=0, stop=10, step=1)\n",
      "\n",
      "\n",
      "\n",
      "\n",
      "<class 'pandas.core.frame.DataFrame'>\n",
      "RangeIndex: 10 entries, 0 to 9\n",
      "Data columns (total 4 columns):\n",
      "Name                            10 non-null object\n",
      "Nationality                     10 non-null object\n",
      "Number of his & her children    10 non-null int64\n",
      "Test Column                     10 non-null int64\n",
      "dtypes: int64(2), object(2)\n",
      "memory usage: 400.0+ bytes\n",
      "None\n",
      "\n",
      "\n",
      "\n",
      "       Number of his & her children  Test Column\n",
      "count                     10.000000    10.000000\n",
      "mean                       1.700000     5.100000\n",
      "std                        1.251666     3.754997\n",
      "min                        0.000000     0.000000\n",
      "25%                        1.000000     3.000000\n",
      "50%                        2.000000     6.000000\n",
      "75%                        2.000000     6.000000\n",
      "max                        4.000000    12.000000\n"
     ]
    }
   ],
   "source": [
    "# Get some fundamental information about the data frame\n",
    "print(\"The number of rows and columns in this data frame is: \" + str(newDFOfExcel.shape) + \"\\n\")\n",
    "\n",
    "# Get the first columns\n",
    "print(str(newDFOfExcel.columns) + \"\\n\")\n",
    "\n",
    "# Sift out some rows\n",
    "print(\"\\n\\n\")\n",
    "print(newDFOfExcel[0:3])\n",
    "\n",
    "# Check the data in particular address\n",
    "print(\"\\n\\n\")\n",
    "newDFOfExcel['Nationality'][2]\n",
    "\n",
    "# Get the description of the rows\n",
    "print(str(newDFOfExcel.index) + \"\\n\")\n",
    "\n",
    "# Get the description of this data frame\n",
    "print(\"\\n\\n\")\n",
    "print(newDFOfExcel.info())\n",
    "print(\"\\n\\n\")\n",
    "\n",
    "# Get the description statistics of the columns in which the type of data are int, just like summary() in R I think.\n",
    "print(newDFOfExcel.describe())"
   ]
  },
  {
   "cell_type": "code",
   "execution_count": 6,
   "metadata": {
    "collapsed": true
   },
   "outputs": [
    {
     "name": "stdout",
     "output_type": "stream",
     "text": [
      "    Name    Nationality  Number of his & her children\n",
      "0  Gates  United States                             2\n",
      "5   Jack  United States                             3\n",
      "7    Tea  United States                             2\n",
      "\n",
      "\n",
      "\n",
      "    Name    Nationality  Number of his & her children\n",
      "0  Gates  United States                             2\n",
      "3  Cindy         Chille                             2\n",
      "4  Tiger          Japan                             2\n",
      "5   Jack  United States                             3\n",
      "7    Tea  United States                             2\n",
      "8  Tonny          Japan                             1\n",
      "9  Jerry         Chille                             4\n",
      "\n",
      "\n",
      "\n",
      "     Name  Number of his & her children\n",
      "0   Gates                             2\n",
      "1  Bills                              0\n",
      "2  Amanda                             1\n",
      "3   Cindy                             2\n",
      "4   Tiger                             2\n",
      "5    Jack                             3\n",
      "6   Ricky                             0\n",
      "7     Tea                             2\n",
      "8   Tonny                             1\n",
      "9   Jerry                             4\n"
     ]
    }
   ],
   "source": [
    "# Sift out some rows which was satisfied by some conditions\n",
    "print(newDFOfExcel[newDFOfExcel['Nationality'] == 'United States'])\n",
    "print(\"\\n\\n\")\n",
    "print(newDFOfExcel[(newDFOfExcel['Number of his & her children'] != 0) & (newDFOfExcel['Nationality'] != 'China')])\n",
    "# \"&\" means \"and\", and \"|\" means \"or\".\n",
    "\n",
    "# Only select several particular columns\n",
    "print(\"\\n\\n\")\n",
    "print(newDFOfExcel[['Name', 'Number of his & her children']])"
   ]
  },
  {
   "cell_type": "code",
   "execution_count": 38,
   "metadata": {
    "collapsed": true
   },
   "outputs": [
    {
     "name": "stdout",
     "output_type": "stream",
     "text": [
      "     Name    Nationality  Number of his & her children  Test Column\n",
      "0   Gates  United States                             2            6\n",
      "1  Bills           China                             0            0\n",
      "2  Amanda          China                             1            3\n",
      "3   Cindy         Chille                             2            6\n",
      "4   Tiger          Japan                             2            6\n",
      "5    Jack  United States                             3            9\n",
      "6   Ricky          Korea                             0            0\n",
      "7     Tea  United States                             2            6\n",
      "8   Tonny          Japan                             1            3\n",
      "9   Jerry         Chille                             4           12\n",
      "\n",
      "\n",
      "The total number of children of everyone is: 17\n",
      "\n",
      "0.5\n",
      "\n",
      "\n",
      "\n",
      "Nationality\n",
      "Chille           6\n",
      "China            1\n",
      "Japan            3\n",
      "Korea            0\n",
      "United States    7\n",
      "Name: Number of his & her children, dtype: int64\n"
     ]
    }
   ],
   "source": [
    "# Create new column\n",
    "newDFOfExcel['Test Column'] = 3 * (newDFOfExcel['Number of his & her children'])\n",
    "print(newDFOfExcel)\n",
    "\n",
    "# Aggregate the data in Column & Get the mean & Seperate data into several groups\n",
    "print(\"\\n\\nThe total number of children of everyone is: \" + str(newDFOfExcel['Number of his & her children'].sum()) + \"\\n\")\n",
    "print(newDFOfExcel[newDFOfExcel['Nationality'] == 'China']['Number of his & her children'].mean())\n",
    "print(\"\\n\\n\")\n",
    "print(newDFOfExcel.groupby(by = 'Nationality')['Number of his & her children'].sum())"
   ]
  },
  {
   "cell_type": "markdown",
   "metadata": {},
   "source": [
    "### Process The Series"
   ]
  },
  {
   "cell_type": "code",
   "execution_count": 45,
   "metadata": {
    "collapsed": true
   },
   "outputs": [
    {
     "name": "stdout",
     "output_type": "stream",
     "text": [
      "<class 'pandas.core.series.Series'>\n",
      "0     6\n",
      "1     0\n",
      "2     3\n",
      "3     6\n",
      "4     6\n",
      "5     9\n",
      "6     0\n",
      "7     6\n",
      "8     3\n",
      "9    12\n",
      "Name: Test Column, dtype: int64\n",
      "\n",
      "\n",
      "\n",
      "<class 'numpy.ndarray'>\n",
      "[ 6  0  3  6  6  9  0  6  3 12]\n"
     ]
    }
   ],
   "source": [
    "# Extract series from data frame\n",
    "newSeriesOfExcel = newDFOfExcel['Test Column']\n",
    "print(type(newSeriesOfExcel))\n",
    "print(newSeriesOfExcel)\n",
    "\n",
    "# Extract nadarray from series\n",
    "print(\"\\n\\n\")\n",
    "print(type(newSeriesOfExcel.values))\n",
    "print(newSeriesOfExcel.values)"
   ]
  },
  {
   "cell_type": "markdown",
   "metadata": {},
   "source": [
    "### Process The Panel"
   ]
  },
  {
   "cell_type": "code",
   "execution_count": 60,
   "metadata": {},
   "outputs": [
    {
     "name": "stderr",
     "output_type": "stream",
     "text": [
      "/anaconda3/lib/python3.7/site-packages/IPython/core/interactiveshell.py:2961: FutureWarning: \n",
      "Panel is deprecated and will be removed in a future version.\n",
      "The recommended way to represent these types of 3-dimensional data are with a MultiIndex on a DataFrame, via the Panel.to_frame() method\n",
      "Alternatively, you can use the xarray package http://xarray.pydata.org/en/stable/.\n",
      "Pandas provides a `.to_xarray()` method to help automate this conversion.\n",
      "\n",
      "  exec(code_obj, self.user_global_ns, self.user_ns)\n"
     ]
    },
    {
     "data": {
      "text/html": [
       "<div>\n",
       "<style scoped>\n",
       "    .dataframe tbody tr th:only-of-type {\n",
       "        vertical-align: middle;\n",
       "    }\n",
       "\n",
       "    .dataframe tbody tr th {\n",
       "        vertical-align: top;\n",
       "    }\n",
       "\n",
       "    .dataframe thead th {\n",
       "        text-align: right;\n",
       "    }\n",
       "</style>\n",
       "<table border=\"1\" class=\"dataframe\">\n",
       "  <thead>\n",
       "    <tr style=\"text-align: right;\">\n",
       "      <th></th>\n",
       "      <th>Name</th>\n",
       "      <th>Nationality</th>\n",
       "      <th>Number of his &amp; her children</th>\n",
       "      <th>Test Column</th>\n",
       "    </tr>\n",
       "  </thead>\n",
       "  <tbody>\n",
       "    <tr>\n",
       "      <th>0</th>\n",
       "      <td>Cindy</td>\n",
       "      <td>Chille</td>\n",
       "      <td>2</td>\n",
       "      <td>6</td>\n",
       "    </tr>\n",
       "    <tr>\n",
       "      <th>1</th>\n",
       "      <td>Tiger</td>\n",
       "      <td>Japan</td>\n",
       "      <td>2</td>\n",
       "      <td>6</td>\n",
       "    </tr>\n",
       "    <tr>\n",
       "      <th>2</th>\n",
       "      <td>Jack</td>\n",
       "      <td>United States</td>\n",
       "      <td>3</td>\n",
       "      <td>9</td>\n",
       "    </tr>\n",
       "  </tbody>\n",
       "</table>\n",
       "</div>"
      ],
      "text/plain": [
       "    Name    Nationality Number of his & her children Test Column\n",
       "0  Cindy         Chille                            2           6\n",
       "1  Tiger          Japan                            2           6\n",
       "2   Jack  United States                            3           9"
      ]
     },
     "execution_count": 60,
     "metadata": {},
     "output_type": "execute_result"
    }
   ],
   "source": [
    "dicOfPanel = {}\n",
    "\n",
    "DFOne = newDFOfExcel[0:3].reset_index(drop = True)    # Without \".reset_index(drop = True)\", system would integrate all the data frames into one form after it finish the process of generating the panel.\n",
    "dicOfPanel[1] = DFOne\n",
    "\n",
    "DFTwo = newDFOfExcel[3:6].reset_index(drop = True)\n",
    "dicOfPanel[2] = DFTwo\n",
    "\n",
    "DFThree = newDFOfExcel[6:9].reset_index(drop = True)\n",
    "dicOfPanel[3] = DFThree\n",
    "\n",
    "newPanel = pd.Panel(dicOfPanel)\n",
    "newPanel[2]"
   ]
  },
  {
   "cell_type": "code",
   "execution_count": 71,
   "metadata": {
    "collapsed": true
   },
   "outputs": [
    {
     "name": "stdout",
     "output_type": "stream",
     "text": [
      "     Name    Nationality  Number of his & her children  Test Column\n",
      "0   Gates  United States                             2            6\n",
      "1  Bills           China                             0            0\n",
      "2  Amanda          China                             1            3\n",
      "3   Cindy         Chille                             2            6\n",
      "4   Tiger          Japan                             2            6\n",
      "5    Jack  United States                             3            9\n",
      "6   Ricky          Korea                             0            0\n",
      "7     Tea  United States                             2            6\n",
      "8   Tonny          Japan                             1            3\n",
      "9   Jerry         Chille                             4           12\n",
      "\n",
      "\n",
      "\n",
      "                        variable          value\n",
      "0                           Name          Gates\n",
      "1                           Name         Bills \n",
      "2                           Name         Amanda\n",
      "3                           Name          Cindy\n",
      "4                           Name          Tiger\n",
      "5                           Name           Jack\n",
      "6                           Name          Ricky\n",
      "7                           Name            Tea\n",
      "8                           Name          Tonny\n",
      "9                           Name          Jerry\n",
      "10                   Nationality  United States\n",
      "11                   Nationality          China\n",
      "12                   Nationality          China\n",
      "13                   Nationality         Chille\n",
      "14                   Nationality          Japan\n",
      "15                   Nationality  United States\n",
      "16                   Nationality          Korea\n",
      "17                   Nationality  United States\n",
      "18                   Nationality          Japan\n",
      "19                   Nationality         Chille\n",
      "20  Number of his & her children              2\n",
      "21  Number of his & her children              0\n",
      "22  Number of his & her children              1\n",
      "23  Number of his & her children              2\n",
      "24  Number of his & her children              2\n",
      "25  Number of his & her children              3\n",
      "26  Number of his & her children              0\n",
      "27  Number of his & her children              2\n",
      "28  Number of his & her children              1\n",
      "29  Number of his & her children              4\n",
      "30                   Test Column              6\n",
      "31                   Test Column              0\n",
      "32                   Test Column              3\n",
      "33                   Test Column              6\n",
      "34                   Test Column              6\n",
      "35                   Test Column              9\n",
      "36                   Test Column              0\n",
      "37                   Test Column              6\n",
      "38                   Test Column              3\n",
      "39                   Test Column             12\n"
     ]
    }
   ],
   "source": [
    "# Rotate and transform the data frame\n",
    "print(newDFOfExcel)\n",
    "print(\"\\n\\n\")\n",
    "Transpose = newDFOfExcel.melt()\n",
    "print(Transpose)"
   ]
  },
  {
   "cell_type": "markdown",
   "metadata": {},
   "source": [
    "### Export The Data"
   ]
  },
  {
   "cell_type": "code",
   "execution_count": null,
   "metadata": {},
   "outputs": [],
   "source": [
    "Transpose.to_csv('output_cvs_file.csv', index = False)\n",
    "Transpose.to_excel('output_cvs_file.xlsx', index = False)"
   ]
  }
 ],
 "metadata": {
  "kernelspec": {
   "display_name": "Python 3",
   "language": "python",
   "name": "python3"
  },
  "language_info": {
   "codemirror_mode": {
    "name": "ipython",
    "version": 3
   },
   "file_extension": ".py",
   "mimetype": "text/x-python",
   "name": "python",
   "nbconvert_exporter": "python",
   "pygments_lexer": "ipython3",
   "version": "3.7.0"
  }
 },
 "nbformat": 4,
 "nbformat_minor": 2
}
