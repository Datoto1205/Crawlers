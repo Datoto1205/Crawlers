{
 "cells": [
  {
   "cell_type": "markdown",
   "metadata": {},
   "source": [
    "# Practice of Regression\n",
    "* The tutorial website I refered to: \n",
    "- http://to52016.pixnet.net/blog/post/343518241-%5Bpython%5D--機器學習%28scikit-learn%29---簡單回歸分析\n",
    "- https://blog.csdn.net/u012162613/article/details/42192293\n",
    "\n",
    "\n",
    "### Load The Data\n",
    "* The code in this part was extracted from the file of \"Practice of Support Vector Machine.\""
   ]
  },
  {
   "cell_type": "code",
   "execution_count": 16,
   "metadata": {},
   "outputs": [
    {
     "name": "stdout",
     "output_type": "stream",
     "text": [
      "['CRIM' 'ZN' 'INDUS' 'CHAS' 'NOX' 'RM' 'AGE' 'DIS' 'RAD' 'TAX' 'PTRATIO'\n",
      " 'B' 'LSTAT']\n",
      "      CRIM    ZN  INDUS  CHAS    NOX     RM    AGE     DIS  RAD    TAX  \\\n",
      "0  0.00632  18.0   2.31   0.0  0.538  6.575   65.2  4.0900  1.0  296.0   \n",
      "1  0.02731   0.0   7.07   0.0  0.469  6.421   78.9  4.9671  2.0  242.0   \n",
      "2  0.02729   0.0   7.07   0.0  0.469  7.185   61.1  4.9671  2.0  242.0   \n",
      "3  0.03237   0.0   2.18   0.0  0.458  6.998   45.8  6.0622  3.0  222.0   \n",
      "4  0.06905   0.0   2.18   0.0  0.458  7.147   54.2  6.0622  3.0  222.0   \n",
      "5  0.02985   0.0   2.18   0.0  0.458  6.430   58.7  6.0622  3.0  222.0   \n",
      "6  0.08829  12.5   7.87   0.0  0.524  6.012   66.6  5.5605  5.0  311.0   \n",
      "7  0.14455  12.5   7.87   0.0  0.524  6.172   96.1  5.9505  5.0  311.0   \n",
      "8  0.21124  12.5   7.87   0.0  0.524  5.631  100.0  6.0821  5.0  311.0   \n",
      "9  0.17004  12.5   7.87   0.0  0.524  6.004   85.9  6.5921  5.0  311.0   \n",
      "\n",
      "   PTRATIO       B  LSTAT  \n",
      "0     15.3  396.90   4.98  \n",
      "1     17.8  396.90   9.14  \n",
      "2     17.8  392.83   4.03  \n",
      "3     18.7  394.63   2.94  \n",
      "4     18.7  396.90   5.33  \n",
      "5     18.7  394.12   5.21  \n",
      "6     15.2  395.60  12.43  \n",
      "7     15.2  396.90  19.15  \n",
      "8     15.2  386.63  29.93  \n",
      "9     15.2  386.71  17.10  \n",
      "   Prediction of Price\n",
      "0                 24.0\n",
      "1                 21.6\n",
      "2                 34.7\n",
      "3                 33.4\n",
      "4                 36.2\n",
      "5                 28.7\n",
      "6                 22.9\n",
      "7                 27.1\n",
      "8                 16.5\n",
      "9                 18.9\n"
     ]
    },
    {
     "data": {
      "text/html": [
       "<div>\n",
       "<style scoped>\n",
       "    .dataframe tbody tr th:only-of-type {\n",
       "        vertical-align: middle;\n",
       "    }\n",
       "\n",
       "    .dataframe tbody tr th {\n",
       "        vertical-align: top;\n",
       "    }\n",
       "\n",
       "    .dataframe thead th {\n",
       "        text-align: right;\n",
       "    }\n",
       "</style>\n",
       "<table border=\"1\" class=\"dataframe\">\n",
       "  <thead>\n",
       "    <tr style=\"text-align: right;\">\n",
       "      <th></th>\n",
       "      <th>CRIM</th>\n",
       "      <th>ZN</th>\n",
       "      <th>INDUS</th>\n",
       "      <th>CHAS</th>\n",
       "      <th>NOX</th>\n",
       "      <th>RM</th>\n",
       "      <th>AGE</th>\n",
       "      <th>DIS</th>\n",
       "      <th>RAD</th>\n",
       "      <th>TAX</th>\n",
       "      <th>PTRATIO</th>\n",
       "      <th>B</th>\n",
       "      <th>LSTAT</th>\n",
       "      <th>Prediction of Price</th>\n",
       "    </tr>\n",
       "  </thead>\n",
       "  <tbody>\n",
       "    <tr>\n",
       "      <th>0</th>\n",
       "      <td>0.00632</td>\n",
       "      <td>18.0</td>\n",
       "      <td>2.31</td>\n",
       "      <td>0.0</td>\n",
       "      <td>0.538</td>\n",
       "      <td>6.575</td>\n",
       "      <td>65.2</td>\n",
       "      <td>4.0900</td>\n",
       "      <td>1.0</td>\n",
       "      <td>296.0</td>\n",
       "      <td>15.3</td>\n",
       "      <td>396.90</td>\n",
       "      <td>4.98</td>\n",
       "      <td>24.0</td>\n",
       "    </tr>\n",
       "    <tr>\n",
       "      <th>1</th>\n",
       "      <td>0.02731</td>\n",
       "      <td>0.0</td>\n",
       "      <td>7.07</td>\n",
       "      <td>0.0</td>\n",
       "      <td>0.469</td>\n",
       "      <td>6.421</td>\n",
       "      <td>78.9</td>\n",
       "      <td>4.9671</td>\n",
       "      <td>2.0</td>\n",
       "      <td>242.0</td>\n",
       "      <td>17.8</td>\n",
       "      <td>396.90</td>\n",
       "      <td>9.14</td>\n",
       "      <td>21.6</td>\n",
       "    </tr>\n",
       "    <tr>\n",
       "      <th>2</th>\n",
       "      <td>0.02729</td>\n",
       "      <td>0.0</td>\n",
       "      <td>7.07</td>\n",
       "      <td>0.0</td>\n",
       "      <td>0.469</td>\n",
       "      <td>7.185</td>\n",
       "      <td>61.1</td>\n",
       "      <td>4.9671</td>\n",
       "      <td>2.0</td>\n",
       "      <td>242.0</td>\n",
       "      <td>17.8</td>\n",
       "      <td>392.83</td>\n",
       "      <td>4.03</td>\n",
       "      <td>34.7</td>\n",
       "    </tr>\n",
       "    <tr>\n",
       "      <th>3</th>\n",
       "      <td>0.03237</td>\n",
       "      <td>0.0</td>\n",
       "      <td>2.18</td>\n",
       "      <td>0.0</td>\n",
       "      <td>0.458</td>\n",
       "      <td>6.998</td>\n",
       "      <td>45.8</td>\n",
       "      <td>6.0622</td>\n",
       "      <td>3.0</td>\n",
       "      <td>222.0</td>\n",
       "      <td>18.7</td>\n",
       "      <td>394.63</td>\n",
       "      <td>2.94</td>\n",
       "      <td>33.4</td>\n",
       "    </tr>\n",
       "    <tr>\n",
       "      <th>4</th>\n",
       "      <td>0.06905</td>\n",
       "      <td>0.0</td>\n",
       "      <td>2.18</td>\n",
       "      <td>0.0</td>\n",
       "      <td>0.458</td>\n",
       "      <td>7.147</td>\n",
       "      <td>54.2</td>\n",
       "      <td>6.0622</td>\n",
       "      <td>3.0</td>\n",
       "      <td>222.0</td>\n",
       "      <td>18.7</td>\n",
       "      <td>396.90</td>\n",
       "      <td>5.33</td>\n",
       "      <td>36.2</td>\n",
       "    </tr>\n",
       "    <tr>\n",
       "      <th>5</th>\n",
       "      <td>0.02985</td>\n",
       "      <td>0.0</td>\n",
       "      <td>2.18</td>\n",
       "      <td>0.0</td>\n",
       "      <td>0.458</td>\n",
       "      <td>6.430</td>\n",
       "      <td>58.7</td>\n",
       "      <td>6.0622</td>\n",
       "      <td>3.0</td>\n",
       "      <td>222.0</td>\n",
       "      <td>18.7</td>\n",
       "      <td>394.12</td>\n",
       "      <td>5.21</td>\n",
       "      <td>28.7</td>\n",
       "    </tr>\n",
       "    <tr>\n",
       "      <th>6</th>\n",
       "      <td>0.08829</td>\n",
       "      <td>12.5</td>\n",
       "      <td>7.87</td>\n",
       "      <td>0.0</td>\n",
       "      <td>0.524</td>\n",
       "      <td>6.012</td>\n",
       "      <td>66.6</td>\n",
       "      <td>5.5605</td>\n",
       "      <td>5.0</td>\n",
       "      <td>311.0</td>\n",
       "      <td>15.2</td>\n",
       "      <td>395.60</td>\n",
       "      <td>12.43</td>\n",
       "      <td>22.9</td>\n",
       "    </tr>\n",
       "    <tr>\n",
       "      <th>7</th>\n",
       "      <td>0.14455</td>\n",
       "      <td>12.5</td>\n",
       "      <td>7.87</td>\n",
       "      <td>0.0</td>\n",
       "      <td>0.524</td>\n",
       "      <td>6.172</td>\n",
       "      <td>96.1</td>\n",
       "      <td>5.9505</td>\n",
       "      <td>5.0</td>\n",
       "      <td>311.0</td>\n",
       "      <td>15.2</td>\n",
       "      <td>396.90</td>\n",
       "      <td>19.15</td>\n",
       "      <td>27.1</td>\n",
       "    </tr>\n",
       "    <tr>\n",
       "      <th>8</th>\n",
       "      <td>0.21124</td>\n",
       "      <td>12.5</td>\n",
       "      <td>7.87</td>\n",
       "      <td>0.0</td>\n",
       "      <td>0.524</td>\n",
       "      <td>5.631</td>\n",
       "      <td>100.0</td>\n",
       "      <td>6.0821</td>\n",
       "      <td>5.0</td>\n",
       "      <td>311.0</td>\n",
       "      <td>15.2</td>\n",
       "      <td>386.63</td>\n",
       "      <td>29.93</td>\n",
       "      <td>16.5</td>\n",
       "    </tr>\n",
       "    <tr>\n",
       "      <th>9</th>\n",
       "      <td>0.17004</td>\n",
       "      <td>12.5</td>\n",
       "      <td>7.87</td>\n",
       "      <td>0.0</td>\n",
       "      <td>0.524</td>\n",
       "      <td>6.004</td>\n",
       "      <td>85.9</td>\n",
       "      <td>6.5921</td>\n",
       "      <td>5.0</td>\n",
       "      <td>311.0</td>\n",
       "      <td>15.2</td>\n",
       "      <td>386.71</td>\n",
       "      <td>17.10</td>\n",
       "      <td>18.9</td>\n",
       "    </tr>\n",
       "  </tbody>\n",
       "</table>\n",
       "</div>"
      ],
      "text/plain": [
       "      CRIM    ZN  INDUS  CHAS    NOX     RM    AGE     DIS  RAD    TAX  \\\n",
       "0  0.00632  18.0   2.31   0.0  0.538  6.575   65.2  4.0900  1.0  296.0   \n",
       "1  0.02731   0.0   7.07   0.0  0.469  6.421   78.9  4.9671  2.0  242.0   \n",
       "2  0.02729   0.0   7.07   0.0  0.469  7.185   61.1  4.9671  2.0  242.0   \n",
       "3  0.03237   0.0   2.18   0.0  0.458  6.998   45.8  6.0622  3.0  222.0   \n",
       "4  0.06905   0.0   2.18   0.0  0.458  7.147   54.2  6.0622  3.0  222.0   \n",
       "5  0.02985   0.0   2.18   0.0  0.458  6.430   58.7  6.0622  3.0  222.0   \n",
       "6  0.08829  12.5   7.87   0.0  0.524  6.012   66.6  5.5605  5.0  311.0   \n",
       "7  0.14455  12.5   7.87   0.0  0.524  6.172   96.1  5.9505  5.0  311.0   \n",
       "8  0.21124  12.5   7.87   0.0  0.524  5.631  100.0  6.0821  5.0  311.0   \n",
       "9  0.17004  12.5   7.87   0.0  0.524  6.004   85.9  6.5921  5.0  311.0   \n",
       "\n",
       "   PTRATIO       B  LSTAT  Prediction of Price  \n",
       "0     15.3  396.90   4.98                 24.0  \n",
       "1     17.8  396.90   9.14                 21.6  \n",
       "2     17.8  392.83   4.03                 34.7  \n",
       "3     18.7  394.63   2.94                 33.4  \n",
       "4     18.7  396.90   5.33                 36.2  \n",
       "5     18.7  394.12   5.21                 28.7  \n",
       "6     15.2  395.60  12.43                 22.9  \n",
       "7     15.2  396.90  19.15                 27.1  \n",
       "8     15.2  386.63  29.93                 16.5  \n",
       "9     15.2  386.71  17.10                 18.9  "
      ]
     },
     "execution_count": 16,
     "metadata": {},
     "output_type": "execute_result"
    }
   ],
   "source": [
    "from sklearn import datasets\n",
    "import pandas as pd\n",
    "\n",
    "boston = datasets.load_boston()\n",
    "print(boston['feature_names'])\n",
    "\n",
    "\n",
    "# Extract all the elements in 'data' type and create a dataframe with module \"pandas\".\n",
    "dataOfFW = pd.DataFrame(boston['data'], columns = boston['feature_names'])\n",
    "print(dataOfFW.head(10))    # Show top 10 rows of dataOfFW.\n",
    "\n",
    "\n",
    "# Extract all the elements in 'target' type and create a dataframe with module \"pandas\".\n",
    "resultOfFW = pd.DataFrame(boston['target'], columns = ['Prediction of Price'])\n",
    "print(resultOfFW.head(10))    # Show top 10 rows of resultOfFW.\n",
    "\n",
    "# Combine the data form and result form\n",
    "newDF = pd.concat([dataOfFW, resultOfFW], axis = 1)\n",
    "newDF.head(10)"
   ]
  },
  {
   "cell_type": "markdown",
   "metadata": {},
   "source": [
    "### Generate the Training Sample Set"
   ]
  },
  {
   "cell_type": "code",
   "execution_count": 17,
   "metadata": {},
   "outputs": [],
   "source": [
    "from sklearn.model_selection import train_test_split\n",
    "\n",
    "# We use this function to create train set and test set randomly.\n",
    "X_train,X_test, y_train, y_test = train_test_split(newDF[['CRIM', 'ZN', 'INDUS', 'CHAS', 'NOX',\t'RM', 'AGE', 'DIS', 'RAD', 'TAX', 'PTRATIO', 'B', 'LSTAT']], newDF[['Prediction of Price']], test_size = 0.3, random_state = 0)    "
   ]
  },
  {
   "cell_type": "markdown",
   "metadata": {},
   "source": [
    "### Standardize The Data of Sample Set"
   ]
  },
  {
   "cell_type": "code",
   "execution_count": 18,
   "metadata": {},
   "outputs": [],
   "source": [
    "from sklearn.preprocessing import StandardScaler\n",
    "\n",
    "sc = StandardScaler()\n",
    "# I need to instantiate StandardScaler first, or I would get some errors.\n",
    "\n",
    "sc.fit(X_train)                        # Initialize the action of standardizing the feature set of sample.\n",
    "X_train_nor = sc.transform(X_train)    # Get the standardized value of train sample set.\n",
    "X_test_nor = sc.transform(X_test)      # Get the standardized value of test sample set."
   ]
  },
  {
   "cell_type": "markdown",
   "metadata": {},
   "source": [
    "### Generate The Multiple Linear Regression Model"
   ]
  },
  {
   "cell_type": "code",
   "execution_count": 19,
   "metadata": {},
   "outputs": [
    {
     "name": "stdout",
     "output_type": "stream",
     "text": [
      "Each coefficient in the above regression model: [[-0.99884541  1.04926169  0.08283818  0.61938203 -1.87828363  2.69828142\n",
      "  -0.27592019 -3.09716434  2.09139628 -1.88530946 -2.26382523  0.59446503\n",
      "  -3.45020002]]\n",
      "The intercept in the above regression model: [22.74548023]\n",
      "The R-square of the above regression model: 0.7644563391821222\n",
      "The adjusted R-square of the above regression model: 0.7554502580332033\n",
      "The p-value of each coefficient in the above regression model: [6.41158158e-14 4.95302857e-14 3.05628798e-24 2.17666529e-03\n",
      " 4.28001007e-17 2.44958160e-55 2.24917643e-14 2.90986820e-06\n",
      " 2.83596692e-14 6.28935737e-22 3.28375250e-31 4.03681568e-10\n",
      " 1.99312376e-63]\n"
     ]
    },
    {
     "name": "stderr",
     "output_type": "stream",
     "text": [
      "/anaconda3/lib/python3.7/site-packages/sklearn/utils/validation.py:578: DataConversionWarning: A column-vector y was passed when a 1d array was expected. Please change the shape of y to (n_samples, ), for example using ravel().\n",
      "  y = column_or_1d(y, warn=True)\n"
     ]
    }
   ],
   "source": [
    "from sklearn import linear_model\n",
    "from sklearn.feature_selection import f_regression\n",
    "\n",
    "# Declare & Initialize the action of linear regression.\n",
    "regression = linear_model.LinearRegression()\n",
    "\n",
    "# Train the Model\n",
    "regression.fit(X_train_nor, y_train)   \n",
    "\n",
    "# Examine The Performance of Linear Regression Model\n",
    "r_squared = regression.score(X_train_nor, y_train)\n",
    "adj_r_squared = r_squared - (1 - r_squared) * (X_train.shape[1] / (X_train.shape[0] - X_train.shape[1] - 1))\n",
    "\n",
    "print('Each coefficient in the above regression model:', regression.coef_)\n",
    "print('The intercept in the above regression model:', regression.intercept_ )\n",
    "print('The R-square of the above regression model:', r_squared)\n",
    "print('The adjusted R-square of the above regression model:', adj_r_squared)\n",
    "print('The p-value of each coefficient in the above regression model:', f_regression(X_train, y_train)[1])"
   ]
  },
  {
   "cell_type": "markdown",
   "metadata": {},
   "source": [
    "* \"anArray.shape\" function could be used to check the position of an array, we could use \".shape(0)\" to check the number of rows, and we could use \".shape(1)\" to check the number of column.\n",
    "* There's no any function to compute the adjusted r-square in the module \"sklearn\", so we need to calculate it manually.\n",
    "* \"f_regression()\" function could be used to check p-value in order to examine the significance of each variables. (If p-value is below 0.05 under the 95% of level of confidence, it indicates that the variable is significant.)"
   ]
  },
  {
   "cell_type": "markdown",
   "metadata": {},
   "source": [
    "### Prediction and Observation of Distribution of The Result"
   ]
  },
  {
   "cell_type": "code",
   "execution_count": 20,
   "metadata": {},
   "outputs": [
    {
     "data": {
      "text/plain": [
       "<Figure size 640x480 with 1 Axes>"
      ]
     },
     "metadata": {},
     "output_type": "display_data"
    }
   ],
   "source": [
    "prediction = regression.predict(X_test_nor)    # Use the linear model to predict the price.\n",
    "\n",
    "import matplotlib.pyplot as plot\n",
    "plot.style.use('ggplot')  \n",
    "plot.scatter(prediction, y_test)\n",
    "plot.plot([y_test.min(), y_test.max()], [y_test.min(), y_test.max()], 'k--', lw=1)    # Draw the dash line\n",
    "plot.show()"
   ]
  },
  {
   "cell_type": "markdown",
   "metadata": {},
   "source": [
    "* If the scatters are closed to that dash line in the plot above, it indicates that the performance of our prediction is better."
   ]
  },
  {
   "cell_type": "markdown",
   "metadata": {},
   "source": [
    "### Generate The Ridge Linear Regression Model\n",
    "\n",
    "* Ridge linear model was used to solve the problem of Multicollinearity, the difference between normal linear regression and ridge linear regression is the final regularizer."
   ]
  },
  {
   "cell_type": "code",
   "execution_count": 21,
   "metadata": {},
   "outputs": [
    {
     "name": "stdout",
     "output_type": "stream",
     "text": [
      "Each coefficient in the above ridge regression model: [[-1.17729906e-01  4.54993163e-02 -9.58510635e-03  2.49661353e+00\n",
      "  -1.09704320e+01  3.88166706e+00 -1.51932794e-02 -1.43149962e+00\n",
      "   2.25343243e-01 -1.14262661e-02 -9.61308497e-01  7.25133363e-03\n",
      "  -4.92443229e-01]]\n",
      "The intercept in the above ridge regression model: [34.34519137]\n",
      "The R-square of the above regression model: 0.7634862329498298\n"
     ]
    },
    {
     "data": {
      "image/png": "[encoded data removed]",
      "text/plain": [
       "<Figure size 432x288 with 1 Axes>"
      ]
     },
     "metadata": {
      "needs_background": "light"
     },
     "output_type": "display_data"
    }
   ],
   "source": [
    "model_ridge=linear_model.Ridge(alpha = .5)    # Initialize the model\n",
    "model_ridge.fit(X_train,y_train)    # Train the model\n",
    "print('Each coefficient in the above ridge regression model:', model_ridge.coef_)\n",
    "print('The intercept in the above ridge regression model:', model_ridge.intercept_)\n",
    "print('The R-square of the above regression model:', model_ridge.score(X_train,y_train))\n",
    "\n",
    "prediction = regression.predict(X_test_nor)    # Prediction\n",
    "\n",
    "plot.scatter(prediction, y_test)\n",
    "plot.plot([y_test.min(),y_test.max()],[y_test.min(),y_test.max()],'k--',lw=2)\n",
    "plot.show()"
   ]
  },
  {
   "cell_type": "markdown",
   "metadata": {},
   "source": [
    "* It seems that there's no problem of Multicollinearity in this case.\n",
    "* The tutorial website I refered to: https://blog.csdn.net/u013597931/article/details/79915804\n",
    "* To get more information about variable selection, I could visit the website at: https://taweihuang.hpd.io/2016/09/12/讀者提問：多元迴歸分析的變數選擇/"
   ]
  },
  {
   "cell_type": "markdown",
   "metadata": {},
   "source": [
    "### Generate The PCA and Decompose The Original Sample Set"
   ]
  },
  {
   "cell_type": "code",
   "execution_count": 65,
   "metadata": {},
   "outputs": [
    {
     "name": "stdout",
     "output_type": "stream",
     "text": [
      "If we select  0  variables,  0 % of the original variance was covered.\n",
      "If we select  1  variables,  46.0 % of the original variance was covered.\n",
      "If we select  2  variables,  57.0 % of the original variance was covered.\n",
      "If we select  3  variables,  67.0 % of the original variance was covered.\n",
      "If we select  4  variables,  74.0 % of the original variance was covered.\n",
      "If we select  5  variables,  81.0 % of the original variance was covered.\n",
      "If we select  6  variables,  86.0 % of the original variance was covered.\n",
      "If we select  7  variables,  90.0 % of the original variance was covered.\n",
      "If we select  8  variables,  93.0 % of the original variance was covered.\n",
      "If we select  9  variables,  95.0 % of the original variance was covered.\n",
      "If we select  10  variables,  97.0 % of the original variance was covered.\n",
      "If we select  11  variables,  98.0 % of the original variance was covered.\n",
      "If we select  12  variables,  100.0 % of the original variance was covered.\n"
     ]
    }
   ],
   "source": [
    "from sklearn.decomposition import PCA\n",
    "\n",
    "# Check which dimension is the best\n",
    "for j in range(0, len(boston['feature_names'])):\n",
    "    pcaModel = PCA(n_components = j)    # \"n_components\" means the number of dimension we need to keep.\n",
    "    new_X_train_nor = pcaModel.fit_transform(X_train_nor)    # Decompose the model\n",
    "\n",
    "    varianceRatio = pcaModel.explained_variance_ratio_    # \".explained_variance_ratio\" could be used to examine the percentage of variance new model could covered.\n",
    "    aggregateRatio = 0\n",
    "    previousOne = 0\n",
    "    \n",
    "    for i in range(0, len(varianceRatio)):\n",
    "          aggregateRatio += varianceRatio[i]\n",
    "    \n",
    "    print(\"If we select \", j, \" variables, \", str(round(aggregateRatio * 100)), \"% of the original variance was covered.\") \n",
    "    \n",
    "# I think that 90% is enough.\n",
    "pcaGoodModel = PCA(n_components = 7)    # Initialize the model again\n",
    "pacGoodModel_fit = pcaGoodModel.fit(X_train_nor)    # Train the PCA model\n",
    "new_X_train_nor = pacGoodModel_fit.transform(X_train_nor)    # Use PCA model to decompose the sample set    "
   ]
  },
  {
   "cell_type": "markdown",
   "metadata": {},
   "source": [
    "### Generate The Multiple Linear Regression Model Again"
   ]
  },
  {
   "cell_type": "code",
   "execution_count": 66,
   "metadata": {},
   "outputs": [
    {
     "name": "stdout",
     "output_type": "stream",
     "text": [
      "Each coefficient in the above regression model: [[-2.37266325  2.70266357  3.47985379 -0.23317115 -1.5608932  -0.56799467\n",
      "  -0.21134992]]\n",
      "The intercept in the above regression model: [22.74548023]\n",
      "The R-square of the above regression model: 0.7310611528589397\n",
      "The adjusted R-square of the above regression model: 0.7207781969388404\n",
      "The p-value of each coefficient in the above regression model: [6.41158158e-14 4.95302857e-14 3.05628798e-24 2.17666529e-03\n",
      " 4.28001007e-17 2.44958160e-55 2.24917643e-14 2.90986820e-06\n",
      " 2.83596692e-14 6.28935737e-22 3.28375250e-31 4.03681568e-10\n",
      " 1.99312376e-63]\n"
     ]
    },
    {
     "name": "stderr",
     "output_type": "stream",
     "text": [
      "/anaconda3/lib/python3.7/site-packages/sklearn/utils/validation.py:578: DataConversionWarning: A column-vector y was passed when a 1d array was expected. Please change the shape of y to (n_samples, ), for example using ravel().\n",
      "  y = column_or_1d(y, warn=True)\n"
     ]
    }
   ],
   "source": [
    "regression.fit(new_X_train_nor, y_train)   \n",
    "\n",
    "# Examine The Performance of Linear Regression Model\n",
    "r_squared = regression.score(new_X_train_nor, y_train)\n",
    "adj_r_squared = r_squared - (1 - r_squared) * (X_train.shape[1] / (X_train.shape[0] - X_train.shape[1] - 1))\n",
    "\n",
    "print('Each coefficient in the above regression model:', regression.coef_)\n",
    "print('The intercept in the above regression model:', regression.intercept_ )\n",
    "print('The R-square of the above regression model:', r_squared)\n",
    "print('The adjusted R-square of the above regression model:', adj_r_squared)\n",
    "print('The p-value of each coefficient in the above regression model:', f_regression(X_train, y_train)[1])"
   ]
  }
 ],
 "metadata": {
  "kernelspec": {
   "display_name": "Python 3",
   "language": "python",
   "name": "python3"
  },
  "language_info": {
   "codemirror_mode": {
    "name": "ipython",
    "version": 3
   },
   "file_extension": ".py",
   "mimetype": "text/x-python",
   "name": "python",
   "nbconvert_exporter": "python",
   "pygments_lexer": "ipython3",
   "version": "3.7.0"
  }
 },
 "nbformat": 4,
 "nbformat_minor": 2
}
