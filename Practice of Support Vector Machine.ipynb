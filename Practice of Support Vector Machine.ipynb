{
 "cells": [
  {
   "cell_type": "markdown",
   "metadata": {},
   "source": [
    "## Acquire the data of features and result of sample of flowers"
   ]
  },
  {
   "cell_type": "code",
   "execution_count": 39,
   "metadata": {},
   "outputs": [],
   "source": [
    "from sklearn import datasets\n",
    "import pandas as pd\n",
    "\n",
    "iris = datasets.load_iris()\n",
    "print(iris)    #This code is used to check the raw data"
   ]
  },
  {
   "cell_type": "code",
   "execution_count": 41,
   "metadata": {
    "collapsed": true
   },
   "outputs": [
    {
     "name": "stdout",
     "output_type": "stream",
     "text": [
      "150\n",
      "['sepal length (cm)', 'sepal width (cm)', 'petal length (cm)', 'petal width (cm)']\n",
      "['setosa' 'versicolor' 'virginica']\n"
     ]
    }
   ],
   "source": [
    "print(len(iris['data']))\n",
    "print(iris['feature_names'])\n",
    "print(iris['target_names'])"
   ]
  },
  {
   "cell_type": "markdown",
   "metadata": {},
   "source": [
    "#### Analysis\n",
    "\n",
    "* There are five different data in this set, which included 'data', 'target', 'target_names', 'dtype' and 'DESCR'.\n",
    "\n",
    "* Each elements in 'data' type is a vector with four properties & features. (which is shown in the part of 'Attribute Information')\n",
    "\n",
    "* There're 150 samples in this set, and there're three different kind of flowers. (Target names)"
   ]
  },
  {
   "cell_type": "code",
   "execution_count": 54,
   "metadata": {
    "collapsed": true
   },
   "outputs": [
    {
     "name": "stdout",
     "output_type": "stream",
     "text": [
      "   sepal length (cm)  sepal width (cm)  petal length (cm)  petal width (cm)  \\\n",
      "0                5.1               3.5                1.4               0.2   \n",
      "1                4.9               3.0                1.4               0.2   \n",
      "2                4.7               3.2                1.3               0.2   \n",
      "3                4.6               3.1                1.5               0.2   \n",
      "4                5.0               3.6                1.4               0.2   \n",
      "5                5.4               3.9                1.7               0.4   \n",
      "6                4.6               3.4                1.4               0.3   \n",
      "7                5.0               3.4                1.5               0.2   \n",
      "8                4.4               2.9                1.4               0.2   \n",
      "9                4.9               3.1                1.5               0.1   \n",
      "\n",
      "   target result  \n",
      "0              0  \n",
      "1              0  \n",
      "2              0  \n",
      "3              0  \n",
      "4              0  \n",
      "5              0  \n",
      "6              0  \n",
      "7              0  \n",
      "8              0  \n",
      "9              0  \n",
      "   target result\n",
      "0              0\n",
      "1              0\n",
      "2              0\n",
      "3              0\n",
      "4              0\n",
      "5              0\n",
      "6              0\n",
      "7              0\n",
      "8              0\n",
      "9              0\n"
     ]
    },
    {
     "data": {
      "text/html": [
       "<div>\n",
       "<style scoped>\n",
       "    .dataframe tbody tr th:only-of-type {\n",
       "        vertical-align: middle;\n",
       "    }\n",
       "\n",
       "    .dataframe tbody tr th {\n",
       "        vertical-align: top;\n",
       "    }\n",
       "\n",
       "    .dataframe thead th {\n",
       "        text-align: right;\n",
       "    }\n",
       "</style>\n",
       "<table border=\"1\" class=\"dataframe\">\n",
       "  <thead>\n",
       "    <tr style=\"text-align: right;\">\n",
       "      <th></th>\n",
       "      <th>sepal length (cm)</th>\n",
       "      <th>sepal width (cm)</th>\n",
       "      <th>petal length (cm)</th>\n",
       "      <th>petal width (cm)</th>\n",
       "      <th>target result</th>\n",
       "    </tr>\n",
       "  </thead>\n",
       "  <tbody>\n",
       "    <tr>\n",
       "      <th>0</th>\n",
       "      <td>5.1</td>\n",
       "      <td>3.5</td>\n",
       "      <td>1.4</td>\n",
       "      <td>0.2</td>\n",
       "      <td>0</td>\n",
       "    </tr>\n",
       "    <tr>\n",
       "      <th>1</th>\n",
       "      <td>4.9</td>\n",
       "      <td>3.0</td>\n",
       "      <td>1.4</td>\n",
       "      <td>0.2</td>\n",
       "      <td>0</td>\n",
       "    </tr>\n",
       "    <tr>\n",
       "      <th>2</th>\n",
       "      <td>4.7</td>\n",
       "      <td>3.2</td>\n",
       "      <td>1.3</td>\n",
       "      <td>0.2</td>\n",
       "      <td>0</td>\n",
       "    </tr>\n",
       "    <tr>\n",
       "      <th>3</th>\n",
       "      <td>4.6</td>\n",
       "      <td>3.1</td>\n",
       "      <td>1.5</td>\n",
       "      <td>0.2</td>\n",
       "      <td>0</td>\n",
       "    </tr>\n",
       "    <tr>\n",
       "      <th>4</th>\n",
       "      <td>5.0</td>\n",
       "      <td>3.6</td>\n",
       "      <td>1.4</td>\n",
       "      <td>0.2</td>\n",
       "      <td>0</td>\n",
       "    </tr>\n",
       "    <tr>\n",
       "      <th>5</th>\n",
       "      <td>5.4</td>\n",
       "      <td>3.9</td>\n",
       "      <td>1.7</td>\n",
       "      <td>0.4</td>\n",
       "      <td>0</td>\n",
       "    </tr>\n",
       "    <tr>\n",
       "      <th>6</th>\n",
       "      <td>4.6</td>\n",
       "      <td>3.4</td>\n",
       "      <td>1.4</td>\n",
       "      <td>0.3</td>\n",
       "      <td>0</td>\n",
       "    </tr>\n",
       "    <tr>\n",
       "      <th>7</th>\n",
       "      <td>5.0</td>\n",
       "      <td>3.4</td>\n",
       "      <td>1.5</td>\n",
       "      <td>0.2</td>\n",
       "      <td>0</td>\n",
       "    </tr>\n",
       "    <tr>\n",
       "      <th>8</th>\n",
       "      <td>4.4</td>\n",
       "      <td>2.9</td>\n",
       "      <td>1.4</td>\n",
       "      <td>0.2</td>\n",
       "      <td>0</td>\n",
       "    </tr>\n",
       "    <tr>\n",
       "      <th>9</th>\n",
       "      <td>4.9</td>\n",
       "      <td>3.1</td>\n",
       "      <td>1.5</td>\n",
       "      <td>0.1</td>\n",
       "      <td>0</td>\n",
       "    </tr>\n",
       "  </tbody>\n",
       "</table>\n",
       "</div>"
      ],
      "text/plain": [
       "   sepal length (cm)  sepal width (cm)  petal length (cm)  petal width (cm)  \\\n",
       "0                5.1               3.5                1.4               0.2   \n",
       "1                4.9               3.0                1.4               0.2   \n",
       "2                4.7               3.2                1.3               0.2   \n",
       "3                4.6               3.1                1.5               0.2   \n",
       "4                5.0               3.6                1.4               0.2   \n",
       "5                5.4               3.9                1.7               0.4   \n",
       "6                4.6               3.4                1.4               0.3   \n",
       "7                5.0               3.4                1.5               0.2   \n",
       "8                4.4               2.9                1.4               0.2   \n",
       "9                4.9               3.1                1.5               0.1   \n",
       "\n",
       "   target result  \n",
       "0              0  \n",
       "1              0  \n",
       "2              0  \n",
       "3              0  \n",
       "4              0  \n",
       "5              0  \n",
       "6              0  \n",
       "7              0  \n",
       "8              0  \n",
       "9              0  "
      ]
     },
     "execution_count": 54,
     "metadata": {},
     "output_type": "execute_result"
    }
   ],
   "source": [
    "# Extract all the elements in 'data' type and create a dataframe with module \"pandas\".\n",
    "dataOfFW = pd.DataFrame(iris['data'], columns = iris['feature_names'])\n",
    "print(newDF.head(10))    # Show top 10 rows of dataOfFW.\n",
    "\n",
    "\n",
    "# Extract all the elements in 'target' type and create a dataframe with module \"pandas\".\n",
    "resultOfFW = pd.DataFrame(iris['target'], columns = ['target result'])\n",
    "print(resultOfFW.head(10))    # Show top 10 rows of resultOfFW.\n",
    "\n",
    "# Combine the data form and result form\n",
    "newDF = pd.concat([dataOfFW, resultOfFW], axis = 1)\n",
    "newDF.head(10)"
   ]
  },
  {
   "cell_type": "markdown",
   "metadata": {},
   "source": [
    "## Create the train set and test set"
   ]
  },
  {
   "cell_type": "code",
   "execution_count": 72,
   "metadata": {},
   "outputs": [],
   "source": [
    "from sklearn.model_selection import train_test_split\n",
    "\n",
    "# We use this function to create train set and test set randomly.\n",
    "X_train,X_test, y_train, y_test = train_test_split(newDF[['sepal length (cm)', 'sepal width (cm)', 'petal length (cm)', 'petal width (cm)']], newDF[['target result']], test_size = 0.3, random_state = 0)    \n",
    "\n",
    "\n",
    "\n",
    "from sklearn.preprocessing import StandardScaler\n",
    "\n",
    "sc = StandardScaler()\n",
    "# I need to instantiate StandardScaler first, or I would get some errors.\n",
    "\n",
    "sc.fit(X_train)                        # Standardize the feature set of sample.\n",
    "X_train_std = sc.transform(X_train)    # Get the standard deviation of train sample set.\n",
    "X_test_std = sc.transform(X_test)      # # Get the standard deviation of test sample set."
   ]
  },
  {
   "cell_type": "markdown",
   "metadata": {},
   "source": [
    "* Before we use the support vector machine (SVM), we need to create train set and test set from the original sample set. Here we use the module \"train_test_split\" to do it. More information about this module could be found at: https://blog.csdn.net/CherDW/article/details/54881167\n",
    "\n",
    "* In order to get the data SVM needs, we need to get the standard deviation of features of train sample set and test sample set. Here we use the module \"StandardScaler\" to do it. More information about this module could be found at: https://www.cnblogs.com/chaosimple/p/4153167.html"
   ]
  },
  {
   "cell_type": "markdown",
   "metadata": {},
   "source": [
    "## Use SVM to classify the data and Calculate the accuracy"
   ]
  },
  {
   "cell_type": "code",
   "execution_count": 112,
   "metadata": {},
   "outputs": [
    {
     "name": "stdout",
     "output_type": "stream",
     "text": [
      "The accuracy of SVM with linear kernel is: 0.9777777777777777\n",
      "The accuracy of SVM with poly kernel is: 0.8888888888888888\n",
      "The accuracy of SVM with rbf kernel is: 0.9777777777777777\n",
      "The accuracy of SVM with sigmoid kernel is: 0.8666666666666667\n"
     ]
    }
   ],
   "source": [
    "from sklearn.svm import SVC\n",
    "\n",
    "kernelMatrix = ['linear', 'poly', 'rbf', 'sigmoid']\n",
    "accuracyMatrix = []\n",
    "\n",
    "for u in range(0, len(kernelMatrix)):\n",
    "    svm = SVC(kernel = kernelMatrix[u], probability = True)    # Create (instantiate) the object of SVM.\n",
    "    svm.fit(X_train_std, y_train['target result'].values)    # Use SVM to fit the data and find the model.\n",
    "\n",
    "    predictionResult = svm.predict(X_test_std)    # Predict the result with SVM.\n",
    "    realResult = y_test['target result'].values\n",
    "    theSameNum = 0\n",
    "\n",
    "    # Calculate the accuracy of SVM with different kernel\n",
    "    for i in range(0, len(realResult)):\n",
    "        if predictionResult[i] == realResult[i]:\n",
    "            theSameNum += 1\n",
    "        else:\n",
    "            pass    # 'pass' means \"doing nothing\" in python.\n",
    "\n",
    "    accuracy = theSameNum/(len(y_test['target result'].values))\n",
    "    accuracyMatrix.append(accuracy)\n",
    "    \n",
    "for v in range(0, len(accuracyMatrix)):\n",
    "    print(\"The accuracy of SVM with \" + kernelMatrix[v] + \" kernel is: \" + str(accuracyMatrix[v]))"
   ]
  },
  {
   "cell_type": "markdown",
   "metadata": {},
   "source": [
    "* SVC is a kind of SVM.\n",
    "* I also could use another kernel, which included ‘linear’, ‘poly’, ‘rbf’, ‘sigmoid’, ‘precomputed’, to create the model/ More information crelated to this issue could be found at: http://scikit-learn.org/stable/modules/generated/sklearn.svm.SVC.html\n",
    "* More information about SVM and machine learning could be found at the website below: \n",
    "    https://machine-learning-python.kspax.io/Classification/ex1_Recognizing_hand-written_digits.html\n",
    "    https://ithelp.ithome.com.tw/articles/10186905\n",
    "* The tutorial website I refered to in this file is: https://medium.com/@yehjames/資料分析-機器學習-第3-4講-支援向量機-support-vector-machine-介紹-9c6c6925856b"
   ]
  }
 ],
 "metadata": {
  "kernelspec": {
   "display_name": "Python 3",
   "language": "python",
   "name": "python3"
  },
  "language_info": {
   "codemirror_mode": {
    "name": "ipython",
    "version": 3
   },
   "file_extension": ".py",
   "mimetype": "text/x-python",
   "name": "python",
   "nbconvert_exporter": "python",
   "pygments_lexer": "ipython3",
   "version": "3.7.0"
  }
 },
 "nbformat": 4,
 "nbformat_minor": 2
}
